{
 "cells": [
  {
   "cell_type": "markdown",
   "metadata": {},
   "source": [
    " ## Conditional Probability\n",
    " \n",
    "**P(A|B)**: probability of A, given B that occurred.\n",
    "\n",
    "### Definition\n",
    "\n",
    "Assuming P(B) ≠ 0:\n",
    "\n",
    "\\begin{equation*}P(A|B) = \\frac{P(A \\cap B)}{P(B)}\\end{equation*}\n",
    "\n",
    "P(A|B) is undefined if P(B) = 0.\n",
    "\n",
    "This also implies that\n",
    "\n",
    "\\begin{equation*} P(A \\cap B) = P(B)P(A|B) = P(A)P(B|A) \\end{equation*}\n",
    "\n",
    "Conditional Probability is just like ordinary probability that satisfies all the axioms, for example:\n",
    "\n",
    "If A and B are disjoint, then\n",
    "\n",
    "\\begin{equation*} P(A \\cup B \\space | \\space C) = P(A|C) + P(B|C) \\end{equation*}"
   ]
  },
  {
   "cell_type": "markdown",
   "metadata": {},
   "source": [
    "### Mutiplication Rule\n",
    "\n",
    "\\begin{equation*}P(A \\cap B \\cap C) = P(A)P(B|A)P(C|A \\cap B)\\end{equation*}"
   ]
  },
  {
   "cell_type": "markdown",
   "metadata": {},
   "source": [
    "### Total Probability Theorem\n",
    "\n",
    "- Divide and conquer\n",
    "- Partition the sample space into A<sub>1</sub>,  A<sub>2</sub>, ...,  A<sub>k</sub>\n",
    "- Have P(B|A<sub>i</sub>) for every i\n",
    "- One way of computing P(B):\n",
    "\\begin{gather*}\n",
    "  P(B) = \\sum_{i=1}^kP(A_i \\cap B) = \\sum_{i=1}^kP(A_i)P(B|A_i)\n",
    "\\end{gather*}\n",
    "- Caculate P(A<sub>i</sub>|B)\n",
    "\n",
    "\\begin{gather*}\n",
    "  P(A_i|B) = \\frac{P(A_i \\cap B)}{P(B)} = \\frac{P(A_i)P(B|A_i)}{P(B)} \\\\\n",
    "  = \\frac{P(A_i)P(B|A_i)}{\\sum_{i=1}^kP(A_i)P(B|A_i)} \n",
    "\\end{gather*}\n",
    "\n",
    "And this is actually the **Bayes Rule**."
   ]
  },
  {
   "cell_type": "code",
   "execution_count": null,
   "metadata": {},
   "outputs": [],
   "source": []
  }
 ],
 "metadata": {
  "kernelspec": {
   "display_name": "Python 3",
   "language": "python",
   "name": "python3"
  },
  "language_info": {
   "codemirror_mode": {
    "name": "ipython",
    "version": 3
   },
   "file_extension": ".py",
   "mimetype": "text/x-python",
   "name": "python",
   "nbconvert_exporter": "python",
   "pygments_lexer": "ipython3",
   "version": "3.6.4"
  }
 },
 "nbformat": 4,
 "nbformat_minor": 2
}

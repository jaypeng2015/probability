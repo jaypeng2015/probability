{
 "cells": [
  {
   "cell_type": "markdown",
   "metadata": {},
   "source": [
    "## Independence of two events\n",
    "\n",
    "### Definition\n",
    "\n",
    "\\begin{equation*}P(B|A) = P(B)\\end{equation*}\n",
    "\n",
    "The occurrence of A provides no information about the occurrence of B.\n",
    "\n",
    "Recall:\n",
    "\n",
    "\\begin{equation*}P(A \\cap B) = P(A)P(B|A)\\end{equation*}\n",
    "\n",
    "Then:\n",
    "\n",
    "\\begin{equation*}P(A \\cap B) = P(A)P(B)\\end{equation*}\n",
    "\n",
    "- Symmetric of respect to A and B\n",
    "  - applies even if P(A) = 0\n",
    "  - implies that P(A|B) = P(A)\n",
    "  \n",
    "  \n",
    "**Don't confuse independence with disjointness!**"
   ]
  },
  {
   "cell_type": "markdown",
   "metadata": {},
   "source": [
    "## Conditional Independence\n",
    "\n",
    "Apply the definition to the conditional sample space:\n",
    "\n",
    "\\begin{equation*}P(A \\cap B|C) = P(A|C)P(B|C)\\end{equation*}\n",
    "\n",
    "**Having independence in the original model does not imply independence in the conditional model, vice versa.**"
   ]
  },
  {
   "cell_type": "markdown",
   "metadata": {},
   "source": [
    "## Independence of multiple events\n",
    "\n",
    "The collection of events A<sub>1</sub>, A<sub>2</sub>, ... , A<sub>n</sub> are independent if\n",
    "\n",
    "\n",
    "\\begin{equation*}P(A_i \\cap A_j \\cap ... \\cap A_q) = P(A_i)P(A_j)...P(A_q)\\end{equation*}\n",
    "\n",
    "for any distinct indices i,j,...,q (chosen from {1,2,...,n})\n",
    "\n",
    "### Example\n",
    "\n",
    "Events A<sub>1</sub>, A<sub>2</sub> and A<sub>3</sub> are independent if\n",
    "\\begin{gather*}\n",
    "P(A \\cap B \\cap C) = P(A)P(B)P(C)\n",
    "P(A \\cap B) = P(A)P(B)\n",
    "P(A \\cap C) = P(A)P(C)\n",
    "P(B \\cap C) = P(B)P(C)\n",
    "\\end{gather*}\n",
    "\n",
    "The last 3 is called **pairwise indpendent**, and the first one is not redundant, because even if A provides no information about C and B provides information about C but A and B together may provide information about C. "
   ]
  },
  {
   "cell_type": "code",
   "execution_count": null,
   "metadata": {},
   "outputs": [],
   "source": []
  }
 ],
 "metadata": {
  "kernelspec": {
   "display_name": "Python 3",
   "language": "python",
   "name": "python3"
  },
  "language_info": {
   "codemirror_mode": {
    "name": "ipython",
    "version": 3
   },
   "file_extension": ".py",
   "mimetype": "text/x-python",
   "name": "python",
   "nbconvert_exporter": "python",
   "pygments_lexer": "ipython3",
   "version": "3.6.4"
  }
 },
 "nbformat": 4,
 "nbformat_minor": 2
}

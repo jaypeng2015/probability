{
 "cells": [
  {
   "cell_type": "markdown",
   "metadata": {},
   "source": [
    "## Principles of counting\n",
    "\n",
    "### Discrete Uniform Law\n",
    " - Let all sample points be equally likely\n",
    " - Then\n",
    " \\begin{equation*}P(A) = \\frac{number \\space of \\space elements \\space of A}{total \\space number \\space of \\space sample \\space points} = \\frac{|A|}{|Ω|}\\end{equation*}\n",
    " - Just count...\n",
    " \n",
    " \n",
    "### Basic Counting Priciple\n",
    " - r stages\n",
    " - n<sub>i</sub> choices at stage i\n",
    " - total number of choices is n<sub>1</sub>n<sub>2</sub>...n<sub>r</sub>\n",
    " \n",
    "## Examples\n",
    "\n",
    " ### Permutations\n",
    " \n",
    " The number of ways to ording elements, for an n-element set, their are n! permutations.\n",
    " \n",
    " - The number of subnets of an n-element set: 2<sup>n</sup> (thinking for each element you have 2 choices: put into the subset or not, and the n choices are independent).\n",
    "  \n",
    " \n",
    "### k-permutations & Combinations\n",
    "\n",
    "**(n,k)** number of k-element subset of a given n-element set.\n",
    "\n",
    "There are two ways to construct an ordered sequence of k distinct elements\n",
    " - choose the k elements one at a time (**Combination**)\n",
    " \\begin{equation*}\n",
    "   n(n-1)...(n-k+1) = \\frac{n!}{(n-k)!}\n",
    "  \\end{equation*}\n",
    " - choose k elements, then order them\n",
    " \n",
    "Hence:\n",
    "\\begin{gather*}\n",
    "    (n,k)k! = \\frac{n!}{(n-k)!} \\\\\n",
    "    (n,k) =  \\frac{n!}{k!(n-k)!}\n",
    "\\end{gather*}\n",
    "\n",
    "And these two equations are called `Binomial Coefficent`.\n",
    "\n",
    "So \n",
    "\\begin{gather*}\n",
    "    \\sum_{k=0}^n(n,k) = ?\n",
    "\\end{gather*}\n",
    "\n",
    "There's no need to do algebra here because the meaning for this is to get the The number of subnet of an n-element set! So the answer is 2<sup>n</sup>.\n",
    "\n",
    "### Partitions\n",
    "\n",
    "Consider choosing a k-element subset out of a given n-element set, is partitioning the n-element set into two partitions, a k-element and a (n-k)-element set.\n",
    "More generally, the number of the tatal outcomes is:\n",
    "\n",
    "\\begin{equation*}\n",
    "\\frac{n!}{n_1!n_2!...n_m!}\n",
    "\\end{equation*}\n",
    "Where\n",
    "\\begin{equation*}\\sum_{j=1}^mn_j=n\\end{equation*}"
   ]
  },
  {
   "cell_type": "markdown",
   "metadata": {},
   "source": []
  }
 ],
 "metadata": {
  "kernelspec": {
   "display_name": "Python 3",
   "language": "python",
   "name": "python3"
  },
  "language_info": {
   "codemirror_mode": {
    "name": "ipython",
    "version": 3
   },
   "file_extension": ".py",
   "mimetype": "text/x-python",
   "name": "python",
   "nbconvert_exporter": "python",
   "pygments_lexer": "ipython3",
   "version": "3.6.4"
  }
 },
 "nbformat": 4,
 "nbformat_minor": 2
}

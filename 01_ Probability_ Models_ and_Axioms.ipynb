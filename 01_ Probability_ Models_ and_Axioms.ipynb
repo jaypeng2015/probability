{
 "cells": [
  {
   "cell_type": "markdown",
   "metadata": {},
   "source": [
    "## Sample Space\n",
    "\n",
    "In probability theory, the sample space of an experiment or random trial is the set of **all** possible outcomes or results of that experiment. A sample space is usually denoted using set notation, and the possible **ordered** outcomes are listed as elements in the set.\n",
    "\n",
    "The sample space is offen marked as **Ω**.\n",
    "\n",
    "- Discrete Example\n",
    "  The outcomes of rolling a dice: \n",
    "  \\begin{equation*}Ω = [1,2,3,4,5,6]\\end{equation*}\n",
    "- Continuous Example\n",
    "  \\begin{equation*}Ω = \\{(x,y) | 0 \\leqslant x,y \\leqslant 1 \\}\\end{equation*}"
   ]
  },
  {
   "cell_type": "markdown",
   "metadata": {},
   "source": [
    "## Event\n",
    "\n",
    " - A subset of a sample space\n",
    " - Probability is assigned to events"
   ]
  },
  {
   "cell_type": "markdown",
   "metadata": {},
   "source": [
    "## Probability Axioms\n",
    "\n",
    "1) Nonnegetivity: \\begin{equation*}P(A) \\geqslant 0\\end{equation*}\n",
    "2) Nomalization: \\begin{equation*} P(Ω) = 1\\end{equation*}\n",
    "3) Additivity: \\begin{equation*} If \\space A \\cap B = \\varnothing, \\space then \\space P(A \\cap B) = P(A) + P(B)\\end{equation*}"
   ]
  },
  {
   "cell_type": "markdown",
   "metadata": {},
   "source": [
    "More generally for a finite set:\n",
    "\n",
    "\\begin{equation*} P(\\{s_1,s_2,...,s_k\\}) = P(\\{s_1\\}) + P(\\{s_2\\}) + ... + P(\\{s_k\\})\n",
    "= P(s_1) + P(s_2) + ... + P(s_k)\n",
    "\\end{equation*}"
   ]
  },
  {
   "cell_type": "markdown",
   "metadata": {},
   "source": [
    "- Axiom 3 needs strengthen for `countable` infinite sample space\n",
    "\n",
    "  **Countable Additivity Axiom**\n",
    "\n",
    "  if A<sub>1</sub>, <sub>2</sub>... are a `sequence` of disjoint events, then:\n",
    "  \n",
    "   \\begin{equation*} P(\\{A_1 \\cap A_2 \\cap ...) = P(A_1) + P(A_2) + ... \\end{equation*}\n",
    "   \n",
    "   `sequence` means these events can be arranged in order.\n",
    "\n",
    "- Some weird sets can not be assigned with probability\n",
    "  - you can forget this unless you are doing some doctor work\n",
    "  - they won't appear in any application"
   ]
  },
  {
   "cell_type": "markdown",
   "metadata": {},
   "source": [
    "## Probability Laws:\n",
    "\n",
    "### Discrete Uniform Law\n",
    " - let all outcomes be equally likely\n",
    " - then \\begin{equation*}P(A) = \\frac{number \\space of \\space elements \\ space of \\space A}{total \\space number \\space of \\space sample \\space points}\\end{equation*}\n",
    " - computing probabilities = counting\n",
    "\n",
    "### Continuous Uniform Law\n",
    "\n",
    " - probability = area"
   ]
  },
  {
   "cell_type": "code",
   "execution_count": null,
   "metadata": {},
   "outputs": [],
   "source": []
  }
 ],
 "metadata": {
  "kernelspec": {
   "display_name": "Python 3",
   "language": "python",
   "name": "python3"
  },
  "language_info": {
   "codemirror_mode": {
    "name": "ipython",
    "version": 3
   },
   "file_extension": ".py",
   "mimetype": "text/x-python",
   "name": "python",
   "nbconvert_exporter": "python",
   "pygments_lexer": "ipython3",
   "version": "3.6.4"
  }
 },
 "nbformat": 4,
 "nbformat_minor": 2
}
